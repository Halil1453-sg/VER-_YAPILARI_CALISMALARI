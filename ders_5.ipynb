{
  "nbformat": 4,
  "nbformat_minor": 0,
  "metadata": {
    "colab": {
      "provenance": []
    },
    "kernelspec": {
      "name": "python3",
      "display_name": "Python 3"
    },
    "language_info": {
      "name": "python"
    }
  },
  "cells": [
    {
      "cell_type": "code",
      "execution_count": 1,
      "metadata": {
        "colab": {
          "base_uri": "https://localhost:8080/"
        },
        "id": "zMvhD8btENZn",
        "outputId": "ab3de503-1ae4-4a67-e821-2c412d1cb001"
      },
      "outputs": [
        {
          "output_type": "stream",
          "name": "stdout",
          "text": [
            "merhaba, İGÜ - İSTKA / Ders 5\n"
          ]
        }
      ],
      "source": [
        "print(\"merhaba, İGÜ - İSTKA / Ders 5\")"
      ]
    },
    {
      "cell_type": "code",
      "source": [
        "import sys  # import python programlama dilinde yazılıma kütüphane eklemeye yarayan bir kod\n",
        "print(sys.version)"
      ],
      "metadata": {
        "colab": {
          "base_uri": "https://localhost:8080/"
        },
        "id": "hejP7kJ4ESep",
        "outputId": "0e85f1b6-3e13-4a18-cba7-715019e5a564"
      },
      "execution_count": 2,
      "outputs": [
        {
          "output_type": "stream",
          "name": "stdout",
          "text": [
            "3.10.12 (main, Jul 29 2024, 16:56:48) [GCC 11.4.0]\n"
          ]
        }
      ]
    },
    {
      "cell_type": "code",
      "source": [
        "from google.colab import drive  #google colab - drive bağlantısı\n",
        "drive.mount('/content/drive')"
      ],
      "metadata": {
        "colab": {
          "base_uri": "https://localhost:8080/"
        },
        "id": "p0-BTKDrETm_",
        "outputId": "106b3848-4eaf-49c5-9c36-2a3fc1549d20"
      },
      "execution_count": 3,
      "outputs": [
        {
          "output_type": "stream",
          "name": "stdout",
          "text": [
            "Mounted at /content/drive\n"
          ]
        }
      ]
    },
    {
      "cell_type": "code",
      "source": [
        "#1 ile 100 arasındaki sayılardan 7 ye bölünenleri bulan phyton kodu\n",
        "sayi_dizi=[]\n",
        "sayi_dizisi2=[]\n",
        "sayi=1\n",
        "while sayi<=100:\n",
        "  if sayi%7==0:\n",
        "    sayi_dizi.append(sayi) ## append fonksiyonu ile 7 ile bölümünden kalan 0olan  her sayıyı dizinin içine atıyoruz.\n",
        "  elif sayi % 7 !=0:\n",
        "    sayi_dizisi2.append(sayi)\n",
        "  sayi+=1\n",
        "print(sayi_dizi)\n",
        "print(\"Toplam sayi adedi:\", len(sayi_dizi))\n",
        "\n",
        "print(\"\",sayi_dizisi2)\n",
        "print(\"Toplam sayi adedi:\", len(sayi_dizisi2))"
      ],
      "metadata": {
        "colab": {
          "base_uri": "https://localhost:8080/"
        },
        "id": "wl-J68JsF5rf",
        "outputId": "2443882e-afc5-4ea5-e6e3-562ef2c3e609"
      },
      "execution_count": 5,
      "outputs": [
        {
          "output_type": "stream",
          "name": "stdout",
          "text": [
            "[7, 14, 21, 28, 35, 42, 49, 56, 63, 70, 77, 84, 91, 98]\n",
            "Toplam sayi adedi: 14\n",
            " [1, 2, 3, 4, 5, 6, 8, 9, 10, 11, 12, 13, 15, 16, 17, 18, 19, 20, 22, 23, 24, 25, 26, 27, 29, 30, 31, 32, 33, 34, 36, 37, 38, 39, 40, 41, 43, 44, 45, 46, 47, 48, 50, 51, 52, 53, 54, 55, 57, 58, 59, 60, 61, 62, 64, 65, 66, 67, 68, 69, 71, 72, 73, 74, 75, 76, 78, 79, 80, 81, 82, 83, 85, 86, 87, 88, 89, 90, 92, 93, 94, 95, 96, 97, 99, 100]\n",
            "Toplam sayi adedi: 86\n"
          ]
        }
      ]
    },
    {
      "cell_type": "code",
      "source": [
        "#girilen iki kodun hangisinin büyük olduğunu bulan ve sayı dışında girilen hatalı\n",
        "\n",
        "while True:   #eğer while döngüsünde true kullanıyorsak, muhakkak döngü içerisinde \"break\" komutu kullanmalıdır.\n",
        "  try:\n",
        "    gelen1=float(input(\"Birinci sayıyı giriniz:\"))\n",
        "    gelen2=float(input(\"İkinci sayıyı giriniz\"))\n",
        "\n",
        "    if gelen1>gelen2:\n",
        "      print(\"Birinci sayı ikinci sayıdan büyüktür.\")\n",
        "      print(\"sad\",)\n",
        "\n",
        "    elif gelen2>gelen1:\n",
        "      print(\"İkinci sayı birinci sayıdan büyüktür.\")\n",
        "    else:\n",
        "      print(\"Sayılar birbirine eşittir.\")\n",
        "      break;\n",
        "  except ValueError:\n",
        "    print(\"Lütfen geçerli bir sayı giriniz\")\n",
        ""
      ],
      "metadata": {
        "colab": {
          "base_uri": "https://localhost:8080/",
          "height": 426
        },
        "id": "zwYQU80pKg4E",
        "outputId": "f355f46a-0307-4e9b-f19f-68f071a731f4"
      },
      "execution_count": 10,
      "outputs": [
        {
          "output_type": "stream",
          "name": "stdout",
          "text": [
            "Birinci sayıyı giriniz:10\n",
            "İkinci sayıyı giriniz6\n",
            "Birinci sayı ikinci sayıdan büyüktür.\n",
            "sad <class 'float'>\n"
          ]
        },
        {
          "output_type": "error",
          "ename": "KeyboardInterrupt",
          "evalue": "Interrupted by user",
          "traceback": [
            "\u001b[0;31m---------------------------------------------------------------------------\u001b[0m",
            "\u001b[0;31mKeyboardInterrupt\u001b[0m                         Traceback (most recent call last)",
            "\u001b[0;32m<ipython-input-10-870a966ee706>\u001b[0m in \u001b[0;36m<cell line: 3>\u001b[0;34m()\u001b[0m\n\u001b[1;32m      3\u001b[0m \u001b[0;32mwhile\u001b[0m \u001b[0;32mTrue\u001b[0m\u001b[0;34m:\u001b[0m   \u001b[0;31m#eğer while döngüsünde true kullanıyorsak, muhakkak döngü içerisinde \"break\" komutu kullanmalıdır.\u001b[0m\u001b[0;34m\u001b[0m\u001b[0;34m\u001b[0m\u001b[0m\n\u001b[1;32m      4\u001b[0m   \u001b[0;32mtry\u001b[0m\u001b[0;34m:\u001b[0m\u001b[0;34m\u001b[0m\u001b[0;34m\u001b[0m\u001b[0m\n\u001b[0;32m----> 5\u001b[0;31m     \u001b[0mgelen1\u001b[0m\u001b[0;34m=\u001b[0m\u001b[0mfloat\u001b[0m\u001b[0;34m(\u001b[0m\u001b[0minput\u001b[0m\u001b[0;34m(\u001b[0m\u001b[0;34m\"Birinci sayıyı giriniz:\"\u001b[0m\u001b[0;34m)\u001b[0m\u001b[0;34m)\u001b[0m\u001b[0;34m\u001b[0m\u001b[0;34m\u001b[0m\u001b[0m\n\u001b[0m\u001b[1;32m      6\u001b[0m     \u001b[0mgelen2\u001b[0m\u001b[0;34m=\u001b[0m\u001b[0mfloat\u001b[0m\u001b[0;34m(\u001b[0m\u001b[0minput\u001b[0m\u001b[0;34m(\u001b[0m\u001b[0;34m\"İkinci sayıyı giriniz\"\u001b[0m\u001b[0;34m)\u001b[0m\u001b[0;34m)\u001b[0m\u001b[0;34m\u001b[0m\u001b[0;34m\u001b[0m\u001b[0m\n\u001b[1;32m      7\u001b[0m \u001b[0;34m\u001b[0m\u001b[0m\n",
            "\u001b[0;32m/usr/local/lib/python3.10/dist-packages/ipykernel/kernelbase.py\u001b[0m in \u001b[0;36mraw_input\u001b[0;34m(self, prompt)\u001b[0m\n\u001b[1;32m    849\u001b[0m                 \u001b[0;34m\"raw_input was called, but this frontend does not support input requests.\"\u001b[0m\u001b[0;34m\u001b[0m\u001b[0;34m\u001b[0m\u001b[0m\n\u001b[1;32m    850\u001b[0m             )\n\u001b[0;32m--> 851\u001b[0;31m         return self._input_request(str(prompt),\n\u001b[0m\u001b[1;32m    852\u001b[0m             \u001b[0mself\u001b[0m\u001b[0;34m.\u001b[0m\u001b[0m_parent_ident\u001b[0m\u001b[0;34m,\u001b[0m\u001b[0;34m\u001b[0m\u001b[0;34m\u001b[0m\u001b[0m\n\u001b[1;32m    853\u001b[0m             \u001b[0mself\u001b[0m\u001b[0;34m.\u001b[0m\u001b[0m_parent_header\u001b[0m\u001b[0;34m,\u001b[0m\u001b[0;34m\u001b[0m\u001b[0;34m\u001b[0m\u001b[0m\n",
            "\u001b[0;32m/usr/local/lib/python3.10/dist-packages/ipykernel/kernelbase.py\u001b[0m in \u001b[0;36m_input_request\u001b[0;34m(self, prompt, ident, parent, password)\u001b[0m\n\u001b[1;32m    893\u001b[0m             \u001b[0;32mexcept\u001b[0m \u001b[0mKeyboardInterrupt\u001b[0m\u001b[0;34m:\u001b[0m\u001b[0;34m\u001b[0m\u001b[0;34m\u001b[0m\u001b[0m\n\u001b[1;32m    894\u001b[0m                 \u001b[0;31m# re-raise KeyboardInterrupt, to truncate traceback\u001b[0m\u001b[0;34m\u001b[0m\u001b[0;34m\u001b[0m\u001b[0m\n\u001b[0;32m--> 895\u001b[0;31m                 \u001b[0;32mraise\u001b[0m \u001b[0mKeyboardInterrupt\u001b[0m\u001b[0;34m(\u001b[0m\u001b[0;34m\"Interrupted by user\"\u001b[0m\u001b[0;34m)\u001b[0m \u001b[0;32mfrom\u001b[0m \u001b[0;32mNone\u001b[0m\u001b[0;34m\u001b[0m\u001b[0;34m\u001b[0m\u001b[0m\n\u001b[0m\u001b[1;32m    896\u001b[0m             \u001b[0;32mexcept\u001b[0m \u001b[0mException\u001b[0m \u001b[0;32mas\u001b[0m \u001b[0me\u001b[0m\u001b[0;34m:\u001b[0m\u001b[0;34m\u001b[0m\u001b[0;34m\u001b[0m\u001b[0m\n\u001b[1;32m    897\u001b[0m                 \u001b[0mself\u001b[0m\u001b[0;34m.\u001b[0m\u001b[0mlog\u001b[0m\u001b[0;34m.\u001b[0m\u001b[0mwarning\u001b[0m\u001b[0;34m(\u001b[0m\u001b[0;34m\"Invalid Message:\"\u001b[0m\u001b[0;34m,\u001b[0m \u001b[0mexc_info\u001b[0m\u001b[0;34m=\u001b[0m\u001b[0;32mTrue\u001b[0m\u001b[0;34m)\u001b[0m\u001b[0;34m\u001b[0m\u001b[0;34m\u001b[0m\u001b[0m\n",
            "\u001b[0;31mKeyboardInterrupt\u001b[0m: Interrupted by user"
          ]
        }
      ]
    },
    {
      "cell_type": "code",
      "source": [
        "#Kullanıcıdan alınan sayıya kadar 1 den başlayarak faktöriyel hesabının yapılmasıdır.\n",
        "while True:\n",
        "  try:\n",
        "    sayi=int(input(\"Bir sayı giriniz\"))\n",
        "    if sayi<0:\n",
        "      print(\"Negatif sayının mutlak değerini alamam \")\n",
        "    elif sayi==0 or sayi==1:\n",
        "      print(1)\n",
        "    else :\n",
        "      sonuc=1\n",
        "      while sayi>1:\n",
        "        sonuc*=sayi\n",
        "        sayi-=1\n",
        "      print(sonuc)\n",
        "    break\n",
        "  except ValueError:\n",
        "    print(\"Ayşe tatile çıksın\")\n"
      ],
      "metadata": {
        "colab": {
          "base_uri": "https://localhost:8080/"
        },
        "id": "zh0AoKIqM2xB",
        "outputId": "48c1cbab-1a82-4e00-c112-d10ff402ca64"
      },
      "execution_count": 17,
      "outputs": [
        {
          "output_type": "stream",
          "name": "stdout",
          "text": [
            "Bir sayı giriniz5\n",
            "120\n"
          ]
        }
      ]
    },
    {
      "cell_type": "code",
      "source": [
        "# kullancııdan başlangıç değerini al\n",
        "while True:\n",
        "  try:\n",
        "    baslangic_degeri=int(input(\"Başlangıç değerini giriniz\"))\n",
        "    if baslangic_degeri<0:\n",
        "      baslangic_degeri=abs(baslangic_degeri)\n",
        "      print(f\"Negatif değer girdiniz, pozitif olarak  alındı: {baslangic_degeri}\")\n",
        "    break\n",
        "  except ValueError:\n",
        "   print(\"Lütfen geçerli bir sayı giriniz\")\n",
        "#kullanıcıdan son değeri al\n",
        "while True:\n",
        "  try:\n",
        "    bitis_degeri=int(input(\"Bitiş değeri giriniz\"))\n",
        "    if bitis_degeri<0:\n",
        "      bitis_degeri=abs(bitis_degeri)\n",
        "      print(f\"Negatif değer girdiniz, pozitif olarak  alındı: {bitis_degeri}\")\n",
        "    break\n",
        "  except ValueError:\n",
        "   print(\"Lütfen geçerli bir sayı giriniz\")\n",
        "#Başlangıç ve bitiş değerileri arasında çift sayıları bul ve topla\n",
        "cift_sayilar=[]\n",
        "cift_sayilarin_toplami=0;\n",
        "for sayi in range(baslangic_degeri,bitis_degeri+1):\n",
        "  if sayi%2==0:\n",
        "    cift_sayilar.append(sayi);\n",
        "    cift_sayilarin_toplami=cift_sayilarin_toplami+sayi\n",
        "    sayi+=1\n",
        "#elde edilen çift sayıları ekrana yazdır.\n",
        "print(\"Elde edilen çift sayılar\")\n",
        "for num in cift_sayilar:\n",
        "  print(num,end=\"\")\n",
        "print(\"Çift sayıların toplamı\",cift_sayilarin_toplami)\n"
      ],
      "metadata": {
        "colab": {
          "base_uri": "https://localhost:8080/"
        },
        "id": "u5oT4wKAW16O",
        "outputId": "0151f726-9e79-4dbb-b2b6-ce34c6f48680"
      },
      "execution_count": 26,
      "outputs": [
        {
          "output_type": "stream",
          "name": "stdout",
          "text": [
            "Başlangıç değerini giriniz-79\n",
            "Negatif değer girdiniz, pozitif olarak  alındı: 79\n",
            "Bitiş değeri giriniz-80\n",
            "Negatif değer girdiniz, pozitif olarak  alındı: 80\n",
            "Elde edilen çift sayılar\n",
            "80Çift sayıların toplamı 80\n"
          ]
        }
      ]
    },
    {
      "cell_type": "code",
      "source": [
        "#Önceden tanımlanan sesli hard listesinde girilen metnin karşılaştırılması yapılarak sesli ve sessiz harf kontrolünün yapımı\n",
        "sesli_harfler='aeıioöuüAEIİOÖUÜ'\n",
        "\n",
        "kelime=input(\"Bir kelime girin:\") #Kullanıcıdan bir kelime al\n",
        "\n",
        "#Sesli ve sessiz harf sayısını hesapla\n",
        "sesli_harf_sayisi=0\n",
        "sessiz_harf_sayisi=0\n",
        "\n",
        "...\n",
        "#isalpha() ile bir stringte yalnızca harf olup olmadığını kontrole tmek için kullanılır.\n",
        "#Aşağıdaki kod blogunda geçen \"isalpha\" harf dışı bir karakter ile karşılaşınca \"false\" döndürmektedir.\n",
        "\n",
        "for harf in kelime:\n",
        "  if harf in sesli_harfler:\n",
        "    sesli_harf_sayisi+=1\n",
        "  elif harf.isalpha():\n",
        "    sessiz_harf_sayisi+=1\n",
        "#sonucu ekrana yazdır.\n",
        "print(\"kelimenin içindeki sesli harf sayısı:\", sesli_harf_sayisi)\n",
        "print(\"Kelimenin içindeki sessiz harf sayısı:\", sessiz_harf_sayisi)"
      ],
      "metadata": {
        "colab": {
          "base_uri": "https://localhost:8080/"
        },
        "id": "sDQw7_S8blbX",
        "outputId": "396c8d0e-d357-48c4-ad38-578f44ec92b0"
      },
      "execution_count": 27,
      "outputs": [
        {
          "output_type": "stream",
          "name": "stdout",
          "text": [
            "Bir kelime girin:selam\n",
            "kelimenin içindeki sesli harf sayısı: 2\n",
            "Kelimenin içindeki sessiz harf sayısı: 3\n"
          ]
        }
      ]
    }
  ]
}