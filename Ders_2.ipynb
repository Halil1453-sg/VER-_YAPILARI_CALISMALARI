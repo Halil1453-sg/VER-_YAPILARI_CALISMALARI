{
  "nbformat": 4,
  "nbformat_minor": 0,
  "metadata": {
    "colab": {
      "provenance": []
    },
    "kernelspec": {
      "name": "python3",
      "display_name": "Python 3"
    },
    "language_info": {
      "name": "python"
    }
  },
  "cells": [
    {
      "cell_type": "markdown",
      "source": [],
      "metadata": {
        "id": "sCva2aDw-WvK"
      }
    },
    {
      "cell_type": "markdown",
      "source": [
        "PYTHON DILINE GIRIS : VERI TIPLERI VE DEGİSKENLER"
      ],
      "metadata": {
        "id": "92o_eIfT-Zlc"
      }
    },
    {
      "cell_type": "code",
      "execution_count": 2,
      "metadata": {
        "colab": {
          "base_uri": "https://localhost:8080/"
        },
        "id": "PrSmhmHIo4_2",
        "outputId": "034aa6a3-1a22-4220-e307-d5056fb90eeb"
      },
      "outputs": [
        {
          "output_type": "stream",
          "name": "stdout",
          "text": [
            "merhaba, İGÜ - İSTKA / Ders 2\n"
          ]
        }
      ],
      "source": [
        "print(\"merhaba, İGÜ - İSTKA / Ders 2\")"
      ]
    },
    {
      "cell_type": "markdown",
      "source": [],
      "metadata": {
        "id": "chBKOgNw-Vc7"
      }
    },
    {
      "cell_type": "code",
      "source": [
        "import sys  # import python programlama dilinde yazılıma kütüphane eklemeye yarayan bir kod\n",
        "print(sys.version)"
      ],
      "metadata": {
        "colab": {
          "base_uri": "https://localhost:8080/"
        },
        "id": "6KcL-JaZpWHl",
        "outputId": "d1b5187e-1e52-4121-8294-35020e4dcaaa"
      },
      "execution_count": 3,
      "outputs": [
        {
          "output_type": "stream",
          "name": "stdout",
          "text": [
            "3.10.12 (main, Jul 29 2024, 16:56:48) [GCC 11.4.0]\n"
          ]
        }
      ]
    },
    {
      "cell_type": "code",
      "source": [
        "from google.colab import drive  #google colab - drive bağlantısı\n",
        "drive.mount('/content/drive')"
      ],
      "metadata": {
        "colab": {
          "base_uri": "https://localhost:8080/"
        },
        "id": "gItiv4lKpiSd",
        "outputId": "3bdad30f-d178-40bc-e8c1-606dcfa33716"
      },
      "execution_count": 7,
      "outputs": [
        {
          "output_type": "stream",
          "name": "stdout",
          "text": [
            "Mounted at /content/drive\n"
          ]
        }
      ]
    },
    {
      "cell_type": "code",
      "source": [
        "#değişken tanımlama\n",
        "degisken =10\n",
        "degisken_1 =50\n"
      ],
      "metadata": {
        "id": "C16i_Mb4p9cg"
      },
      "execution_count": 16,
      "outputs": []
    },
    {
      "cell_type": "code",
      "source": [
        "#Değişkene değer atayıp ekrana yazdırma\n",
        "x=0\n",
        "y=5\n",
        "z=\"merhaba dünya\"\n",
        "print(x)\n",
        "print(y)\n",
        "print(z)\n"
      ],
      "metadata": {
        "colab": {
          "base_uri": "https://localhost:8080/"
        },
        "id": "62O8PB-7wk_j",
        "outputId": "7aed8e0d-9026-45fc-a59f-7ce5016010bb"
      },
      "execution_count": 15,
      "outputs": [
        {
          "output_type": "stream",
          "name": "stdout",
          "text": [
            "0\n",
            "5\n",
            "merhaba dünya\n"
          ]
        }
      ]
    },
    {
      "cell_type": "code",
      "source": [
        "#Değişkene atanan sayının değerini bulmak\n",
        "a=10.5\n",
        "print(type(a))"
      ],
      "metadata": {
        "colab": {
          "base_uri": "https://localhost:8080/"
        },
        "id": "NaSyfPPU51-R",
        "outputId": "830752b8-5524-4bf7-d43b-3f451e3f00ab"
      },
      "execution_count": 17,
      "outputs": [
        {
          "output_type": "stream",
          "name": "stdout",
          "text": [
            "<class 'float'>\n"
          ]
        }
      ]
    },
    {
      "cell_type": "code",
      "source": [
        "#Int olan değişken değerini floata çevirme\n",
        "x=10\n",
        "y=float(x)\n",
        "print(y,type(y))"
      ],
      "metadata": {
        "colab": {
          "base_uri": "https://localhost:8080/"
        },
        "id": "7KjzbYQk6sPt",
        "outputId": "bb73bf6e-2ed2-4dfb-d666-6b002f333030"
      },
      "execution_count": 19,
      "outputs": [
        {
          "output_type": "stream",
          "name": "stdout",
          "text": [
            "10.0 <class 'float'>\n"
          ]
        }
      ]
    },
    {
      "cell_type": "code",
      "source": [
        "#float olan değişken değerini int a çevirme\n",
        "a=12.34\n",
        "b=int (a)\n",
        "print(b,type(b))\n",
        "\n",
        "#NOT:Float olan değişken değerini Int veri tipine çevrildiğinde ,virgünden sonrası için yuvarlama yapar."
      ],
      "metadata": {
        "colab": {
          "base_uri": "https://localhost:8080/"
        },
        "id": "vRRsntgD7KCm",
        "outputId": "01a640c3-b9a1-4a06-d7b4-b2dfc6c550e2"
      },
      "execution_count": 20,
      "outputs": [
        {
          "output_type": "stream",
          "name": "stdout",
          "text": [
            "12 <class 'int'>\n"
          ]
        }
      ]
    },
    {
      "cell_type": "code",
      "source": [
        "#Değişkende\n",
        "c= \"Phyton Programlama\"\n",
        "print(c)\n",
        "print(type(c))"
      ],
      "metadata": {
        "colab": {
          "base_uri": "https://localhost:8080/"
        },
        "id": "lr6f_3bk7u4A",
        "outputId": "bb7d1ebc-53c4-4640-a47c-2e0bf9bd3baf"
      },
      "execution_count": 22,
      "outputs": [
        {
          "output_type": "stream",
          "name": "stdout",
          "text": [
            "Phyton Programlama\n",
            "<class 'str'>\n"
          ]
        }
      ]
    },
    {
      "cell_type": "code",
      "source": [
        "#Boolean (True -  False)  Doğru / Yanlış Belirtilmesi\n",
        "d=True #1\n",
        "e=False #0\n",
        "print(d)\n",
        "print(type(e))\n"
      ],
      "metadata": {
        "colab": {
          "base_uri": "https://localhost:8080/"
        },
        "id": "uJp884Iv8htk",
        "outputId": "68ad4a7d-b967-4a0a-b0f1-09fb883c09da"
      },
      "execution_count": 24,
      "outputs": [
        {
          "output_type": "stream",
          "name": "stdout",
          "text": [
            "True\n",
            "<class 'bool'>\n"
          ]
        }
      ]
    },
    {
      "cell_type": "code",
      "source": [
        "#List Tanımlama\n",
        "liste=[1,2,3,5,6]    #köşeli parantez\n",
        "print(type(liste))\n",
        "print(liste)"
      ],
      "metadata": {
        "colab": {
          "base_uri": "https://localhost:8080/"
        },
        "id": "IiPd0WC994IL",
        "outputId": "0b3fbd98-54ce-4d58-bf4c-e2b4fbf72951"
      },
      "execution_count": 29,
      "outputs": [
        {
          "output_type": "stream",
          "name": "stdout",
          "text": [
            "<class 'list'>\n",
            "[1, 2, 3, 5, 6]\n"
          ]
        }
      ]
    },
    {
      "cell_type": "code",
      "source": [
        "#TUPLE - DEMET TANIMLAMASI\n",
        "demet =(1,2,3,4,5) #parantez\n",
        "print(type(demet))\n",
        "print(demet)"
      ],
      "metadata": {
        "colab": {
          "base_uri": "https://localhost:8080/"
        },
        "id": "mKD0TEcI-Or7",
        "outputId": "ba114fed-f937-44a5-de79-d951cf51242a"
      },
      "execution_count": 28,
      "outputs": [
        {
          "output_type": "stream",
          "name": "stdout",
          "text": [
            "<class 'tuple'>\n",
            "(1, 2, 3, 4, 5)\n"
          ]
        }
      ]
    },
    {
      "cell_type": "markdown",
      "source": [
        "Dictionary - Sözlük nedir?\n",
        "1.Sözlükler, anahtar-değer (key-value) çiftlerini depolayan veri yapılarıdır.\n",
        "2.Her anahtar benzersizdir ve bir değere karşılık gelir.\n",
        "3.Sözlükler sırasızdır ve değiştirilebilir."
      ],
      "metadata": {
        "id": "Zzn06d0X_0iX"
      }
    },
    {
      "cell_type": "code",
      "source": [
        "#Dictionary örneği:\n",
        "notlar = {\n",
        "    \"Ali\": 85,\n",
        "    \"Veli\": 90,\n",
        "    \"Ayşe\":78\n",
        "\n",
        "}\n",
        "notlar[\"Fatma\"]= 92 #öğrenci ekleme\n",
        "notlar[\"Ali\"]= 88 # Öğrencinin notunu güncelleme\n",
        "print(notlar)"
      ],
      "metadata": {
        "colab": {
          "base_uri": "https://localhost:8080/"
        },
        "id": "HLevXNIJ_I_-",
        "outputId": "0eb7d4ba-6af4-403c-915b-81f605c8641d"
      },
      "execution_count": 30,
      "outputs": [
        {
          "output_type": "stream",
          "name": "stdout",
          "text": [
            "{'Ali': 88, 'Veli': 90, 'Ayşe': 78, 'Fatma': 92}\n"
          ]
        }
      ]
    },
    {
      "cell_type": "code",
      "source": [
        "print(notlar.keys())  #dict_keys (['isim','yas','meslek'])\n",
        "print(notlar.values()) #dict_values\n",
        "print(notlar.items())"
      ],
      "metadata": {
        "colab": {
          "base_uri": "https://localhost:8080/"
        },
        "id": "nccAvuqiAy6i",
        "outputId": "5b028ceb-8736-42bc-91e2-fd9c8baee11e"
      },
      "execution_count": 32,
      "outputs": [
        {
          "output_type": "stream",
          "name": "stdout",
          "text": [
            "dict_keys(['Ali', 'Veli', 'Ayşe', 'Fatma'])\n",
            "dict_values([88, 90, 78, 92])\n",
            "dict_items([('Ali', 88), ('Veli', 90), ('Ayşe', 78), ('Fatma', 92)])\n"
          ]
        }
      ]
    },
    {
      "cell_type": "markdown",
      "source": [
        "Set - Küme Nedir?\n",
        "\n",
        "Kümeler, benzersiz elemanlardan oluşan sırasız koleksiyonlardır.\n",
        "Kümeler değiştirilebilir ve tekrarlayan eleman içermez.\n",
        "Küme Metotları\n",
        "\n",
        "add(): Küme içerisine eleman ekler.\n",
        "remove(): Küme içerisinden eleman siler.\n",
        "union(): İki kümenin birleşimini döner.\n",
        "intersection(): İki kümenin kesişimini döner.\n",
        "difference(): İki kümenin farkını döner."
      ],
      "metadata": {
        "id": "t1E2czhvCSUH"
      }
    },
    {
      "cell_type": "code",
      "source": [
        "#Set - Küme Örneği -> Bir yazılım etkinliğine katılan kişilerin oluşturduğu kümeler\n",
        "kodyazanlar= {\"Ahmet\",\"Mehmet\",\"Ayşe\"}\n",
        "kodyazmayanlar = {\"Ayşe\",\"Veli\",\"Fatma\"}\n",
        "\n",
        "#iki kümede ortak olan kişiyi bulalım. Öncelikle ortak adı verilen bir değişken tanımlayalım.\n",
        "\n",
        "ortak= kodyazanlar.intersection(kodyazmayanlar)\n",
        "print(\"Ortak olan kişi\",ortak)\n",
        "\n",
        "#Etkinlikte  kod çalışması yapmayan öğrencilerin tespiti\n",
        "Kod_yazmayan = kodyazmayanlar.difference(kodyazanlar)\n",
        "print(\"Kod çalışması yapmayan öğrenci listesi:\", Kod_yazmayan)\n",
        "\n",
        "#Yazılım Eğitiminin Öğrenci İmza Listesi\n",
        "imza_listesi = kodyazanlar.union(kodyazmayanlar)\n",
        "print(\"Etkinlikteki katılımcılar:\",imza_listesi)\n"
      ],
      "metadata": {
        "id": "IIuRW3GcCWFW"
      },
      "execution_count": null,
      "outputs": []
    },
    {
      "cell_type": "code",
      "source": [
        "giris= input(\"Bir sayı girin:\")\n",
        "try:\n",
        "  num= float(giris)\n",
        "  print(f\"Girilen sayı: {num}, tipi: {type(num)}, mutlak değeri: {abs(num)}\") # num değişkeninin tipini yazdırmak için doğru sözdizimini kullanın\n",
        "except ValueError:\n",
        "    print(\"Geçersiz veri girdiniz.\")"
      ],
      "metadata": {
        "colab": {
          "base_uri": "https://localhost:8080/"
        },
        "id": "aILebApNERbz",
        "outputId": "3cd5172f-58c4-4f67-8fae-c0b57b4c02af"
      },
      "execution_count": 39,
      "outputs": [
        {
          "output_type": "stream",
          "name": "stdout",
          "text": [
            "Bir sayı girin:10\n",
            "Girilen sayı: 10.0, tipi: <class 'float'>, mutlak değeri: 10.0\n"
          ]
        }
      ]
    },
    {
      "cell_type": "code",
      "source": [
        "import random\n",
        "rastgele_float =random.random()\n",
        "print(\"Rastgele Deger:\",rastgele_float)"
      ],
      "metadata": {
        "colab": {
          "base_uri": "https://localhost:8080/"
        },
        "id": "3r9r7EWpFEUs",
        "outputId": "78297d82-e3d3-4e85-a6a6-be068ec856ca"
      },
      "execution_count": 37,
      "outputs": [
        {
          "output_type": "stream",
          "name": "stdout",
          "text": [
            "Rastgele Deger: 0.5790131983520171\n"
          ]
        }
      ]
    },
    {
      "cell_type": "code",
      "source": [
        "#1 ile 10 arasında (her iki sınır dahil) rastgele bir tam sayı üretir.\n",
        "import random\n",
        "rastgele_sayi =random.randint(1,10)\n",
        "print(\"Rastgele Deger:\", rastgele_sayi)"
      ],
      "metadata": {
        "colab": {
          "base_uri": "https://localhost:8080/"
        },
        "id": "ciMvY5uBFzoN",
        "outputId": "e74a0792-771c-4b6a-a83c-3ad0b4d2d788"
      },
      "execution_count": 46,
      "outputs": [
        {
          "output_type": "stream",
          "name": "stdout",
          "text": [
            "Rastgele Deger: 2\n"
          ]
        }
      ]
    },
    {
      "cell_type": "markdown",
      "source": [],
      "metadata": {
        "id": "6t2Y1W0s_zhH"
      }
    },
    {
      "cell_type": "markdown",
      "source": [],
      "metadata": {
        "id": "4vXtcmUz_w4Y"
      }
    },
    {
      "cell_type": "markdown",
      "source": [],
      "metadata": {
        "id": "2OlOJM-F-TL7"
      }
    }
  ]
}