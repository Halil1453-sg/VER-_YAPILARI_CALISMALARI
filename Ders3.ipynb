{
  "nbformat": 4,
  "nbformat_minor": 0,
  "metadata": {
    "colab": {
      "provenance": []
    },
    "kernelspec": {
      "name": "python3",
      "display_name": "Python 3"
    },
    "language_info": {
      "name": "python"
    }
  },
  "cells": [
    {
      "cell_type": "code",
      "execution_count": 1,
      "metadata": {
        "colab": {
          "base_uri": "https://localhost:8080/"
        },
        "id": "FKi8bKGbw4El",
        "outputId": "74c7726a-e53c-441b-98bb-0ba2b19eb846"
      },
      "outputs": [
        {
          "output_type": "stream",
          "name": "stdout",
          "text": [
            "merhaba, İGÜ - İSTKA / Ders 3\n"
          ]
        }
      ],
      "source": [
        "print(\"merhaba, İGÜ - İSTKA / Ders 3\")"
      ]
    },
    {
      "cell_type": "markdown",
      "source": [
        "KOŞUL YAPISI"
      ],
      "metadata": {
        "id": "ANMItydq4TO6"
      }
    },
    {
      "cell_type": "code",
      "source": [
        "import sys  # import python programlama dilinde yazılıma kütüphane eklemeye yarayan bir kod\n",
        "print(sys.version)"
      ],
      "metadata": {
        "colab": {
          "base_uri": "https://localhost:8080/"
        },
        "id": "kgubJxSmw-FJ",
        "outputId": "891d69df-2ab7-4028-93a0-ce3f0c627a52"
      },
      "execution_count": 2,
      "outputs": [
        {
          "output_type": "stream",
          "name": "stdout",
          "text": [
            "3.10.12 (main, Jul 29 2024, 16:56:48) [GCC 11.4.0]\n"
          ]
        }
      ]
    },
    {
      "cell_type": "code",
      "source": [
        "from google.colab import drive  #google colab - drive bağlantısı\n",
        "drive.mount('/content/drive')"
      ],
      "metadata": {
        "colab": {
          "base_uri": "https://localhost:8080/"
        },
        "id": "cnsPrVgew_9Q",
        "outputId": "ca233a05-97b0-4180-c9d7-d06b167e803a"
      },
      "execution_count": 3,
      "outputs": [
        {
          "output_type": "stream",
          "name": "stdout",
          "text": [
            "Mounted at /content/drive\n"
          ]
        }
      ]
    },
    {
      "cell_type": "code",
      "source": [
        "#İF KOŞULU\n",
        "x=10\n",
        "if x>5:\n",
        "  print(\"x, 5 te büyüktür.\")"
      ],
      "metadata": {
        "colab": {
          "base_uri": "https://localhost:8080/"
        },
        "id": "DjQveoNwyvNi",
        "outputId": "1cf5f341-e345-4b73-f94d-3c003e4faffb"
      },
      "execution_count": 7,
      "outputs": [
        {
          "output_type": "stream",
          "name": "stdout",
          "text": [
            "x, 5 te büyüktür.\n"
          ]
        }
      ]
    },
    {
      "cell_type": "code",
      "source": [
        "#if - else koşulu\n",
        "x=3\n",
        "if(x>5):\n",
        "  print(\"x, 5 ten büyüktür\")\n",
        "else:\n",
        "  print(\"x, 5 ten küçüktür\")"
      ],
      "metadata": {
        "colab": {
          "base_uri": "https://localhost:8080/"
        },
        "id": "qldlVJMK5zJS",
        "outputId": "d51cda87-b7bb-498d-db8f-244018b40029"
      },
      "execution_count": 8,
      "outputs": [
        {
          "output_type": "stream",
          "name": "stdout",
          "text": [
            "x, 5 ten küçüktür\n"
          ]
        }
      ]
    },
    {
      "cell_type": "code",
      "source": [
        "# if-elif-else Koşul yapısı\n",
        "x=8\n",
        "if x>10:\n",
        "  print(\"x,10 dan büyüktür\")\n",
        "elif x>5:\n",
        "  print(\"x, 5 ten büyüktür ama 10 dan küçük veya eşittir.\")\n",
        "else:\n",
        "  print(\"x, 5 ten küçük veya eşittir\")"
      ],
      "metadata": {
        "colab": {
          "base_uri": "https://localhost:8080/"
        },
        "id": "d4un1NE26MMb",
        "outputId": "3987347f-d7fd-42c6-fff0-98a71e8eced4"
      },
      "execution_count": 10,
      "outputs": [
        {
          "output_type": "stream",
          "name": "stdout",
          "text": [
            "x, 5 ten büyüktür ama 10 dan küçük veya eşittir.\n"
          ]
        }
      ]
    },
    {
      "cell_type": "code",
      "source": [
        "#İç İçe İf Koşulu\n",
        "x=12\n",
        "y=8\n",
        "if x>10:\n",
        "  if y>5:\n",
        "    print(\"x, 10 dan büyük ve y, 5 ten büyüktür\") # bu satır çalışır.\n",
        "  else:\n",
        "    print(\"x,10 dan büyük ama y, 5 ten küçük veya eşittir.\")\n",
        "else:\n",
        "  print(\"x,10 dan küçük veya eşittir.\")"
      ],
      "metadata": {
        "colab": {
          "base_uri": "https://localhost:8080/"
        },
        "id": "4RsjoG3gDu0v",
        "outputId": "d3fa259d-59e0-46a1-f443-7afeea9adec5"
      },
      "execution_count": 12,
      "outputs": [
        {
          "output_type": "stream",
          "name": "stdout",
          "text": [
            "x, 10 dan büyük ve y, 5 ten büyüktür\n"
          ]
        }
      ]
    },
    {
      "cell_type": "code",
      "source": [
        "x=7\n",
        "y=3\n",
        "\n",
        "#'and ' operatörü ile\n",
        "if x>5 and y>2:\n",
        "  print(\"x, 5 ten büyük ve y, 2 den büyüktür\") # bu satır çalışır:\n",
        "#'or ' operatörü ile\n",
        "if x>5 or y>5:\n",
        "  print(\"x veya y, 5 ten büyüktür\")\n",
        "#'not' operatörü ile\n",
        "if not (x>10):\n",
        "  print(\"x, 10 dan büyük değildir.\") #bu satır çalışır"
      ],
      "metadata": {
        "id": "gH_8wgbyEzIo"
      },
      "execution_count": null,
      "outputs": []
    },
    {
      "cell_type": "code",
      "source": [
        "#Örnek 1: Not Sistemi\n",
        "notu=85\n",
        "if notu>=90:\n",
        "  print(\"Harf notu : A\")\n",
        "elif notu>=80:\n",
        "  print(\"Harf notu : B\")  # Bu kod satırı çalışır.\n",
        "elif notu>=70:\n",
        "  print(\"Harf notu : c\")\n",
        "elif notu>=60:\n",
        "  print(\"Harf notu : D\")\n",
        "else:\n",
        "  print(\"Harf notu: F\")\n",
        "\n"
      ],
      "metadata": {
        "colab": {
          "base_uri": "https://localhost:8080/"
        },
        "id": "fxqcRgvNG4Dz",
        "outputId": "69408c89-a464-4a97-c04c-66d66dde3e99"
      },
      "execution_count": 17,
      "outputs": [
        {
          "output_type": "stream",
          "name": "stdout",
          "text": [
            "Harf notu : B\n"
          ]
        }
      ]
    },
    {
      "cell_type": "code",
      "source": [
        "#Örnek 2: Yaş Kontrolü\n",
        "\n",
        "yas=20\n",
        "if yas<18:\n",
        "  print(\"reşit değilsiniz\")\n",
        "elif yas<21:\n",
        "  print(\"Reşitsin\")\n",
        "else:\n",
        "  print (\"nasip\")"
      ],
      "metadata": {
        "colab": {
          "base_uri": "https://localhost:8080/"
        },
        "id": "QzSe3CFnIMDs",
        "outputId": "bde0c29e-5996-4165-c081-75825c85b2af"
      },
      "execution_count": 20,
      "outputs": [
        {
          "output_type": "stream",
          "name": "stdout",
          "text": [
            "Reşitsin\n"
          ]
        }
      ]
    },
    {
      "cell_type": "code",
      "source": [
        "#Örnek 3: Sayı pozitif , negatif veya sıfır mı ?\n",
        "sayi=int(input(\"Bir sayı gir\"))\n",
        "if sayi>0:\n",
        "  print(\"sayı pozitiftir\")\n",
        "elif sayi<0:\n",
        "  print(\"sayi negatiftir.\") #bu satır çalışır.\n",
        "else:\n",
        "  print(\"Sayı sıfırdır.\")"
      ],
      "metadata": {
        "colab": {
          "base_uri": "https://localhost:8080/"
        },
        "id": "7KGKP0evI6Bl",
        "outputId": "5edf591e-cf47-412f-8858-3529c2891880"
      },
      "execution_count": 18,
      "outputs": [
        {
          "output_type": "stream",
          "name": "stdout",
          "text": [
            "Bir sayı gir10\n",
            "sayı pozitiftir\n"
          ]
        }
      ]
    }
  ]
}