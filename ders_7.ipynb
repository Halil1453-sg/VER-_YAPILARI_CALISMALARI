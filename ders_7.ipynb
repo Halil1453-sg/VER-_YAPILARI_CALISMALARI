{
  "nbformat": 4,
  "nbformat_minor": 0,
  "metadata": {
    "colab": {
      "provenance": []
    },
    "kernelspec": {
      "name": "python3",
      "display_name": "Python 3"
    },
    "language_info": {
      "name": "python"
    }
  },
  "cells": [
    {
      "cell_type": "code",
      "execution_count": 5,
      "metadata": {
        "colab": {
          "base_uri": "https://localhost:8080/"
        },
        "id": "ePmAYk5P_eGk",
        "outputId": "525d0cd0-b4b0-41dc-a423-670c823be73e"
      },
      "outputs": [
        {
          "output_type": "stream",
          "name": "stdout",
          "text": [
            "merhaba, İGÜ - İSTKA / Ders 8\n"
          ]
        }
      ],
      "source": [
        "print(\"merhaba, İGÜ - İSTKA / Ders 8\")"
      ]
    },
    {
      "cell_type": "code",
      "source": [
        "import sys  # import python programlama dilinde yazılıma kütüphane eklemeye yarayan bir kod\n",
        "print(sys.version)"
      ],
      "metadata": {
        "colab": {
          "base_uri": "https://localhost:8080/"
        },
        "id": "Hgn5aAfw_3Oz",
        "outputId": "326c9c04-12f7-4a7b-caf4-45dfb233d33d"
      },
      "execution_count": 6,
      "outputs": [
        {
          "output_type": "stream",
          "name": "stdout",
          "text": [
            "3.10.12 (main, Jul 29 2024, 16:56:48) [GCC 11.4.0]\n"
          ]
        }
      ]
    },
    {
      "cell_type": "code",
      "source": [
        "from google.colab import drive  #google colab - drive bağlantısı\n",
        "drive.mount('/content/drive')"
      ],
      "metadata": {
        "colab": {
          "base_uri": "https://localhost:8080/"
        },
        "id": "iuZPxwAS_5Qq",
        "outputId": "f6ff8be4-6d0a-40d8-b796-3b647a4413a7"
      },
      "execution_count": 7,
      "outputs": [
        {
          "output_type": "stream",
          "name": "stdout",
          "text": [
            "Mounted at /content/drive\n"
          ]
        }
      ]
    },
    {
      "cell_type": "code",
      "source": [
        "import os\n",
        "os.chdir('/content/drive/My Drive/VERIYAPILARI_ISTKA')"
      ],
      "metadata": {
        "id": "1cWL5uzS_7Gy"
      },
      "execution_count": 8,
      "outputs": []
    },
    {
      "cell_type": "markdown",
      "source": [
        "***VERİ SETİ DÜZENLEME*** **"
      ],
      "metadata": {
        "id": "3pwrK2KjEr_W"
      }
    },
    {
      "cell_type": "code",
      "source": [
        "import pandas as pd\n",
        "\n",
        "VeriSetiYolu = '/content/drive/My Drive/DATASET'\n",
        "\n",
        "for file in os.listdir(VeriSetiYolu):\n",
        "\n",
        "  if file.endswith(('.xlsx', '.xls')):\n",
        "\n",
        "    df = pd.read_excel(os.path.join(VeriSetiYolu, file))\n",
        "\n",
        "    df.to_csv(os.path.join(VeriSetiYolu, file.rsplit('.', 1)[0] + '.csv'), index=False)\n",
        "\n",
        "    print(f\"{file} dosyası CSV formatına çevrildi.\")\n"
      ],
      "metadata": {
        "colab": {
          "base_uri": "https://localhost:8080/"
        },
        "id": "nU5qkxehAAVk",
        "outputId": "9cfc7a9d-aae2-4ede-8fa6-695736d6cb50"
      },
      "execution_count": 9,
      "outputs": [
        {
          "output_type": "stream",
          "name": "stdout",
          "text": [
            "atktan-geri-kazanm-miktarlar.xlsx dosyası CSV formatına çevrildi.\n"
          ]
        }
      ]
    },
    {
      "cell_type": "code",
      "source": [
        "import os  # bu kodu eklemezseniz dosya yolunu bulmaz.\n",
        "import pandas as pd\n",
        "VeriSetiYolu = '/content/drive/My Drive/DATASET'\n",
        "# VeriSetiYolu içindeki .csv dosyalarını bul ve say\n",
        "csv_dosyalari = [dosya for dosya in os.listdir(VeriSetiYolu) if dosya.endswith('.csv')]\n",
        "\n",
        "\n",
        "\n",
        "# .csv dosya sayısını ekrana yazdır\n",
        "csv_dosya_sayisi = len(csv_dosyalari)\n",
        "\n",
        "print(f\"VeriSetiYolu içerisinde {csv_dosya_sayisi} tane .csv dosyası bulunuyor\")\n",
        "# Mevcut *.csv uzantılı dosyaların isimlerini getiriyoruz.\n",
        "print(\"Bulunan CSV Dosyları:\")\n",
        "for dosya in csv_dosyalari:\n",
        "  print(dosya)\n"
      ],
      "metadata": {
        "colab": {
          "base_uri": "https://localhost:8080/"
        },
        "id": "sWQNo71h5w28",
        "outputId": "241974cf-db04-4bdb-8de8-a485bc6e2b05"
      },
      "execution_count": 16,
      "outputs": [
        {
          "output_type": "stream",
          "name": "stdout",
          "text": [
            "VeriSetiYolu içerisinde 2 tane .csv dosyası bulunuyor\n",
            "Bulunan CSV Dosyları:\n",
            "atktan-geri-kazanm-miktarlar.csv\n",
            "atik.csv\n"
          ]
        }
      ]
    }
  ]
}