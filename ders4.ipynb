{
  "nbformat": 4,
  "nbformat_minor": 0,
  "metadata": {
    "colab": {
      "provenance": []
    },
    "kernelspec": {
      "name": "python3",
      "display_name": "Python 3"
    },
    "language_info": {
      "name": "python"
    }
  },
  "cells": [
    {
      "cell_type": "code",
      "execution_count": 1,
      "metadata": {
        "colab": {
          "base_uri": "https://localhost:8080/"
        },
        "id": "WJR6Cg7H8c1m",
        "outputId": "3df094eb-c3a0-482c-b280-eb19c1c13aab"
      },
      "outputs": [
        {
          "output_type": "stream",
          "name": "stdout",
          "text": [
            "merhaba, İGÜ - İSTKA / Ders 4\n"
          ]
        }
      ],
      "source": [
        "print(\"merhaba, İGÜ - İSTKA / Ders 4\")"
      ]
    },
    {
      "cell_type": "code",
      "source": [
        "import sys  # import python programlama dilinde yazılıma kütüphane eklemeye yarayan bir kod\n",
        "print(sys.version)"
      ],
      "metadata": {
        "colab": {
          "base_uri": "https://localhost:8080/"
        },
        "id": "WB4hemc59wfn",
        "outputId": "c8aff2d0-edaa-4c44-a321-489895b33716"
      },
      "execution_count": 2,
      "outputs": [
        {
          "output_type": "stream",
          "name": "stdout",
          "text": [
            "3.10.12 (main, Jul 29 2024, 16:56:48) [GCC 11.4.0]\n"
          ]
        }
      ]
    },
    {
      "cell_type": "code",
      "source": [
        "from google.colab import drive  #google colab - drive bağlantısı\n",
        "drive.mount('/content/drive')"
      ],
      "metadata": {
        "colab": {
          "base_uri": "https://localhost:8080/"
        },
        "id": "tuVQuuIt9zd3",
        "outputId": "0435c048-347e-411e-def6-516e8356a9fe"
      },
      "execution_count": 4,
      "outputs": [
        {
          "output_type": "stream",
          "name": "stdout",
          "text": [
            "Drive already mounted at /content/drive; to attempt to forcibly remount, call drive.mount(\"/content/drive\", force_remount=True).\n"
          ]
        }
      ]
    },
    {
      "cell_type": "code",
      "source": [
        "#for döngüsü örneği : 0 dan 4 a kadar olan sayıları yazdırılması işlemidir.\n",
        "for i in range(5):   #5 e gelene kadar yazdırır.\n",
        "  print(i)"
      ],
      "metadata": {
        "colab": {
          "base_uri": "https://localhost:8080/"
        },
        "id": "s_f23BHhAnwB",
        "outputId": "03a8793f-36f5-46cd-df98-10234825c72b"
      },
      "execution_count": 5,
      "outputs": [
        {
          "output_type": "stream",
          "name": "stdout",
          "text": [
            "0\n",
            "1\n",
            "2\n",
            "3\n",
            "4\n"
          ]
        }
      ]
    },
    {
      "cell_type": "code",
      "source": [
        "#for döngüsü örneği: alışveriş listesi oluşturma\n",
        "liste = [\"elma\",\"ekmek\",\"süt\",\"peynir\"]\n",
        "for alinacaklar in liste:\n",
        "  print(alinacaklar)"
      ],
      "metadata": {
        "colab": {
          "base_uri": "https://localhost:8080/"
        },
        "id": "XsdUvPZBBQIp",
        "outputId": "b2a8c445-520f-4ff4-c5cd-0c28b9f45c3d"
      },
      "execution_count": 6,
      "outputs": [
        {
          "output_type": "stream",
          "name": "stdout",
          "text": [
            "elma\n",
            "ekmek\n",
            "süt\n",
            "peynir\n"
          ]
        }
      ]
    },
    {
      "cell_type": "code",
      "source": [
        "#for döngüsü örneği: bir sınfıtaki öğrencilerin notlarının ortalamasını hesaplama:\n",
        "notlar=[5,6,7,8,9]\n",
        "toplam=0\n",
        "for i in notlar:\n",
        "  toplam+=i\n",
        "ortalama= toplam / len(notlar)     #len= dizinin içerisindeki eleman sayısını bulan koddur. toplam/5;\n",
        "print(\"Not ortalaması:\", ortalama)"
      ],
      "metadata": {
        "colab": {
          "base_uri": "https://localhost:8080/"
        },
        "id": "w1hg87YoCn2B",
        "outputId": "a1f5e178-c508-4664-85e6-c46e09649f16"
      },
      "execution_count": 7,
      "outputs": [
        {
          "output_type": "stream",
          "name": "stdout",
          "text": [
            "Not ortalaması: 7.0\n"
          ]
        }
      ]
    },
    {
      "cell_type": "code",
      "source": [
        "# While döngüsü örneği: 0 dan 4 e kadar olan sayıları yazdırınn\n",
        "i=0\n",
        "while i<=5:\n",
        "  print(i)\n",
        "  i+=1"
      ],
      "metadata": {
        "colab": {
          "base_uri": "https://localhost:8080/"
        },
        "id": "aYNDdk3GOJlU",
        "outputId": "0cfd46a2-471f-4da4-df6e-5935b8bb99ae"
      },
      "execution_count": 8,
      "outputs": [
        {
          "output_type": "stream",
          "name": "stdout",
          "text": [
            "0\n",
            "1\n",
            "2\n",
            "3\n",
            "4\n",
            "5\n"
          ]
        }
      ]
    },
    {
      "cell_type": "code",
      "source": [
        "#Kullanıcıdan b,r sayı alınması\n",
        "kullanici_girisi = int(input(\"Bir sayı giriniz: \"))\n",
        "#0 dan kullanıcı tarafından girilen sayıya kadar sıralama yapma\n",
        "i=0\n",
        "while i<=kullanici_girisi:\n",
        "  print(i)\n",
        "  i+=1"
      ],
      "metadata": {
        "colab": {
          "base_uri": "https://localhost:8080/"
        },
        "id": "UNrtvc4BOmET",
        "outputId": "5de136fc-e3b1-44b5-da8b-454447c1d4a8"
      },
      "execution_count": 11,
      "outputs": [
        {
          "output_type": "stream",
          "name": "stdout",
          "text": [
            "Bir sayı giriniz: 10\n",
            "0\n",
            "1\n",
            "2\n",
            "3\n",
            "4\n",
            "5\n",
            "6\n",
            "7\n",
            "8\n",
            "9\n",
            "10\n"
          ]
        }
      ]
    },
    {
      "cell_type": "code",
      "source": [
        "#break örneği : 3 e ulaştığında döngü sonlandıran kod bloğudur.\n",
        "for i in range(5):\n",
        "  if i==3:\n",
        "    break\n",
        "  print(i)"
      ],
      "metadata": {
        "colab": {
          "base_uri": "https://localhost:8080/"
        },
        "id": "QXYXEho4P3zE",
        "outputId": "b72bede5-57ed-4d98-dc61-1d0ca424d37d"
      },
      "execution_count": 18,
      "outputs": [
        {
          "output_type": "stream",
          "name": "stdout",
          "text": [
            "0\n",
            "1\n",
            "2\n"
          ]
        }
      ]
    },
    {
      "cell_type": "code",
      "source": [
        "#continue örneği: 3 e ulaştığında o tekrar işlemini es geçen kod bloğudur.\n",
        "for i in range(5):\n",
        "  if i==3:\n",
        "    continue\n",
        "  print(i)"
      ],
      "metadata": {
        "colab": {
          "base_uri": "https://localhost:8080/"
        },
        "id": "WAo67-4wQlYd",
        "outputId": "ec5274f0-cf00-4258-9af9-a12652e11f24"
      },
      "execution_count": 19,
      "outputs": [
        {
          "output_type": "stream",
          "name": "stdout",
          "text": [
            "0\n",
            "1\n",
            "2\n",
            "4\n"
          ]
        }
      ]
    },
    {
      "cell_type": "code",
      "source": [
        "#iç içe for döngüsü örneği: 2 boyutlu bir matrisin elemanlaı üzerinde işlemler\n",
        "matris = [\n",
        "    [1,2,3],\n",
        "    [4,5,6],\n",
        "    [7,8,9]]\n",
        "for x in matris:\n",
        "  for y in x:\n",
        "    print(y)"
      ],
      "metadata": {
        "colab": {
          "base_uri": "https://localhost:8080/"
        },
        "id": "zUxLwHbiRx3d",
        "outputId": "cc55e456-5723-4cfc-8381-cf08b3a10d76"
      },
      "execution_count": 21,
      "outputs": [
        {
          "output_type": "stream",
          "name": "stdout",
          "text": [
            "1\n",
            "2\n",
            "3\n",
            "4\n",
            "5\n",
            "6\n",
            "7\n",
            "8\n",
            "9\n"
          ]
        }
      ]
    },
    {
      "cell_type": "code",
      "source": [
        "#Kullancıdan bilgi alınması\n",
        "while True:\n",
        "  try:\n",
        "    gelen_bilgi=int(input(\"Bir sayı giriniz:\"))\n",
        "    break\n",
        "  except ValueError:\n",
        "    print(\"Lütfen geçerli bir sayı giriniz\")\n",
        "\n",
        "#0 da kullanıcı tarafından girilen sayıya kadar sıralama yapma\n",
        "i=0\n",
        "while i<=gelen_bilgi:\n",
        "  print(i)\n",
        "  i+=1\n",
        ""
      ],
      "metadata": {
        "colab": {
          "base_uri": "https://localhost:8080/"
        },
        "id": "zyJcGEoVT889",
        "outputId": "312a6d3f-c428-466f-91bd-9ce4017facc8"
      },
      "execution_count": 26,
      "outputs": [
        {
          "name": "stdout",
          "output_type": "stream",
          "text": [
            "Bir sayı giriniz:a\n",
            "Lütfen geçerli bir sayı giriniz\n",
            "Bir sayı giriniz:-1\n"
          ]
        }
      ]
    },
    {
      "cell_type": "code",
      "source": [
        "#while döngüsü örneği:kullanıcı bakiye bilgisinin sorgulanması\n",
        "toplam_ucret = 1000\n",
        "while toplam_ucret>0:\n",
        "  try:\n",
        "    cekilen_tutar = int(input(\"Çekmek istediğiniz miktarı giriniz\"))\n",
        "    if cekilen_tutar>toplam_ucret:\n",
        "      print(\"yetersiz bakiye\")\n",
        "      bilgi = input(\"İşleme devam etmek istiyor musunuz (e/h)?\").lower()    #bir çevrim fonskiyonudur.\n",
        "      if bilgi == 'h':\n",
        "        print(\"işlem sonlandırıldı.\")\n",
        "        break\n",
        "      elif bilgi!= 'e' and bilgi !=  'h':\n",
        "        print(\"gecersiz islem\")\n",
        "\n",
        "\n",
        "    else:\n",
        "      toplam_ucret-=cekilen_tutar\n",
        "      print(\"Kalan bakiye:\",toplam_ucret)\n",
        "\n",
        "    if toplam_ucret==0:\n",
        "      print(\"Kalan bakiye:\",toplam_ucret)\n",
        "      break\n",
        "  except ValueError:\n",
        "    print(\"Lütfen geçerli bir sayı girin\")"
      ],
      "metadata": {
        "colab": {
          "base_uri": "https://localhost:8080/"
        },
        "id": "ERsUQ-3HVscM",
        "outputId": "6c01de33-73ba-419f-ff7e-5b31e9e53b3b"
      },
      "execution_count": null,
      "outputs": [
        {
          "output_type": "stream",
          "name": "stdout",
          "text": [
            "Çekmek istediğiniz miktarı giriniz1050\n",
            "yetersiz bakiye\n",
            "İşleme devam etmek istiyor musunuz (e/h)?evet\n",
            "gecersiz islem\n"
          ]
        }
      ]
    }
  ]
}