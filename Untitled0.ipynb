{
  "nbformat": 4,
  "nbformat_minor": 0,
  "metadata": {
    "colab": {
      "provenance": []
    },
    "kernelspec": {
      "name": "python3",
      "display_name": "Python 3"
    },
    "language_info": {
      "name": "python"
    }
  },
  "cells": [
    {
      "cell_type": "code",
      "source": [
        "print(\"Merhaba, İGU \") #print ekrana çıktı veren bir koddur.\n"
      ],
      "metadata": {
        "colab": {
          "base_uri": "https://localhost:8080/"
        },
        "id": "E6dbLVFT2tVI",
        "outputId": "f7d8b00a-f7ad-49b7-8df6-7acc3e9de253"
      },
      "execution_count": 10,
      "outputs": [
        {
          "output_type": "stream",
          "name": "stdout",
          "text": [
            "Merhaba, İGU \n"
          ]
        }
      ]
    },
    {
      "cell_type": "markdown",
      "source": [
        "phyton programlama dilinde print komutu ekrandan kullanıcıya bilgi veren bir koddur.\n",
        "Veri yapıları ve Algoritmalar dersi ilk kodlama çıktısıdır. SİBER AKADEMİ 19.08.2024"
      ],
      "metadata": {
        "id": "MzCRoI8c6w6X"
      }
    },
    {
      "cell_type": "code",
      "execution_count": 11,
      "metadata": {
        "id": "GOhGaE-D2rUF",
        "colab": {
          "base_uri": "https://localhost:8080/"
        },
        "outputId": "74ae3213-43c4-4874-ac1a-0c8994938ec9"
      },
      "outputs": [
        {
          "output_type": "stream",
          "name": "stdout",
          "text": [
            "3.10.12 (main, Jul 29 2024, 16:56:48) [GCC 11.4.0]\n"
          ]
        }
      ],
      "source": [
        "import sys # import phyton programlama dilinde yazılıma kütüphane eklemeye yarayan bir kod bloğu\n",
        "print(sys.version) # system verisyon çıktısı alır"
      ]
    },
    {
      "cell_type": "markdown",
      "source": [
        "phyton programlama dili giriş seviyesi hakkında bilgiler aldım\n"
      ],
      "metadata": {
        "id": "NXKsJ9hk6j_A"
      }
    },
    {
      "cell_type": "code",
      "source": [
        "from google.colab import drive #google clab - drive bağlantısı\n",
        "drive.mount ('/content/drive')"
      ],
      "metadata": {
        "colab": {
          "base_uri": "https://localhost:8080/"
        },
        "id": "q4bWp8jq6HiC",
        "outputId": "710b1273-d10f-4679-e350-c21e636be202"
      },
      "execution_count": 12,
      "outputs": [
        {
          "output_type": "stream",
          "name": "stdout",
          "text": [
            "Mounted at /content/drive\n"
          ]
        }
      ]
    },
    {
      "cell_type": "code",
      "source": [
        "import os\n",
        "os.chdir('/content/drive/My Drive/VERIYAPILARI_ISTKA')\n",
        "!pwd #bize kodun çıktısını dosya yoku olarak veren kod bloğudur."
      ],
      "metadata": {
        "colab": {
          "base_uri": "https://localhost:8080/"
        },
        "id": "7c_4wnEV865g",
        "outputId": "8003282e-4956-4590-f96d-1a154b3bc859"
      },
      "execution_count": 16,
      "outputs": [
        {
          "output_type": "stream",
          "name": "stdout",
          "text": [
            "/content/drive/My Drive/VERIYAPILARI_ISTKA\n"
          ]
        }
      ]
    },
    {
      "cell_type": "markdown",
      "source": [],
      "metadata": {
        "id": "KINvONOW6v1n"
      }
    }
  ]
}